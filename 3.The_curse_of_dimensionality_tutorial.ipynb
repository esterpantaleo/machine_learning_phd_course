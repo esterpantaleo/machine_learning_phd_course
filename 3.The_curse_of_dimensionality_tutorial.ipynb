{
 "cells": [
  {
   "cell_type": "markdown",
   "id": "89d177a2",
   "metadata": {},
   "source": [
    "# 3. Note: The curse of dimensionality (in Machine Learning)\n",
    "\n",
    "\n",
    "The curse of dimensionality is a term coined by Richard Bellman in 1957 to describe the exponential increase in volume associated with adding extra dimensions to a mathematical space. \n",
    "\n",
    "Consider a $p$-dimensional hypercube with side length $2r$. The volume $V$ of this hypercube is given by: \n",
    "\n",
    "$V =(2r)^p$. \n",
    "\n",
    "As $p$ increases, the volume grows exponentially, making it harder to cover the space uniformly with a finite number of data points. For example, if $r = 1$, the volume of the hypercube is $2p$, which becomes impractically large as $p$ increases.\n",
    "\n",
    "\n",
    "* In the context of machine learning, the phrase ‘curse of dimensionality’ typically refers to the various challenges that arise when analyzing and modeling data with a high number of features. \n",
    "\n",
    "* As the dimensionality of the feature space increases, several problems become more pronounced, impacting the performance and feasibility of learning algorithms.\n",
    "\n",
    "\n",
    "## Challenges with High-Dimensional Feature Spaces\n",
    "* **Data Sparsity**: As the number of features increases, the data points become more sparse in the feature space. For a fixed number of data points, the density of data points decreases exponentially with the increase in dimensionality, making it harder to capture the underlying patterns.\n",
    "\n",
    "* **Overfitting**: High-dimensional spaces provide more flexibility for models to fit the training data. However, this often leads to overfitting, where the model captures noise in the training data rather than the true underlying distribution. This results in poor generalization to new, unseen data.\n",
    "\n",
    "* **Increased Computational Complexity**: The computational cost of many machine learning algorithms increases with the number of features. For example, the time complexity of algorithms such as k-nearest neighbors (KNN) and support vector machines (SVMs) grows with the dimensionality, making them impractical for very high-dimensional data.\n",
    "\n",
    "## Hughes phenomenon\n",
    "An important result related to the curse of dimensionality is the Hughes phenomenon, named after G.F. Hughes who described it in 1968. \n",
    "\n",
    "\n",
    "\n",
    "\n",
    "\n",
    "The Hughes phenomenon illustrates that, for a fixed number of training samples, the classification accuracy of a machine learning model initially improves as the number of features increases, but after a certain point, it starts to decline. \n",
    "\n",
    "\n",
    "\n",
    "This is due to the increased variance in the estimates of the model parameters as the number of features grows, leading to overfitting.\n",
    "\n",
    "<br><br><br>\n",
    "Mathematically, suppose we have a classification problem with $n$ training samples and $p$ features. If we denote the classification accuracy by $A(p,n)$, then Hughes’ result can be summarized as \n",
    "\n",
    "$A(p,n)$ increases with $p$ for small $p$ and decreases with $p$ for large $p$. </li>\n",
    "[![](hughes.png) ](hughes.png)\n",
    "\n",
    "\n",
    "    \n",
    "## Distance Measures in High Dimensions\n",
    "\n",
    "In high-dimensional spaces, the concept of distance becomes less intuitive. \n",
    " \n",
    "\n",
    "\n",
    "This is evident if comparing the distances between the nearest and farthest neighbors of a point in high dimensions. \n",
    "<br>\n",
    "\n",
    "The ratio of the distances between the nearest and farthest neighbors approaches 1 as $p$ increases, leading to a loss of contrast in distances. \n",
    "<br>\n",
    "In the context of nearest neighbor searches, this uniformity of distances implies that the ratio of the distance to the nearest neighbor to the distance to the farthest neighbor approaches 1. \n",
    "<br>\n",
    "\n",
    "Mathematically, if $\\text{dist}_\\text{min}$ and $\\text{dist}_\\text{max}$ are the minimum and maximum distances from a given point to all other points in the dataset, then\n",
    "$\\lim_{p\\to \\infty} \\frac{\\text{dist}_\\text{min}}{\\text{dist}_\\text{max}} \\to 1$. As the number of features (i.e. the number of dimensions) grow, the amount of data we need to generalize accurately grows exponentially.\n",
    "The curse of dimensionality says that, given a whole set of points, P, and a reference point, Q, if you compute the distance from Q to each of the points in P, the difference between the maximum distance and the minimum distance goes to 0. See python code below.\n",
    "\n",
    "<br>\n",
    "\n",
    "This makes it difficult to distinguish between the closest and farthest neighbors, which can significantly degrade the performance of algorithms that rely on distance measures, such as $k$-nearest neighbors (KNN) and clustering algorithms like $k$-means.\n",
    "\n",
    "<br>\n",
    "\n",
    "\n",
    "\n",
    "## Implications and Mitigation Strategies \n",
    "The curse of dimensionality implies that adding more features to a dataset can lead to diminishing returns and potentially worse performance if the model overfits the data. To mitigate these effects, several strategies can be employed: \n",
    "\n",
    "* **Feature Selection**: Select a subset of relevant features that contribute most to the predictive power of the model. Techniques include mutual information, recursive feature elimination, and regularization methods like Lasso. \n",
    "\n",
    "* **Dimensionality Reduction**: Transform the high-dimensional feature space into a lower-dimensional space while preserving the important information. Common techniques include Principal Component Analysis (PCA), Linear Discriminant Analysis (LDA), and t-Distributed Stochastic Neighbor Embedding (t-SNE). \n",
    "\n",
    "* **Regularization**: Add a penalty term to the learning algorithm to constrain the model complexity, thereby preventing overfitting. Examples include Ridge regression, Lasso regression, and Elastic Net. \n",
    "\n",
    "* **Increase Training Data**: Collect more training samples to provide sufficient coverage of the high-dimensional space. This can be challenging and expensive but is often necessary for high-dimensional data.\n",
    "\n"
   ]
  },
  {
   "cell_type": "code",
   "execution_count": 2,
   "id": "3f136528",
   "metadata": {},
   "outputs": [
    {
     "data": {
      "image/png": "[encoded data removed]",
      "text/plain": [
       "<Figure size 432x288 with 1 Axes>"
      ]
     },
     "metadata": {
      "needs_background": "light"
     },
     "output_type": "display_data"
    }
   ],
   "source": [
    "import numpy as np\n",
    "import matplotlib.pyplot as plt\n",
    "import os\n",
    "import math\n",
    "\n",
    "deltas = []\n",
    "for p in range(2,50):\n",
    "    # Generate 1000 random points in p dimensions.\n",
    "    P_set = [np.random.randint(-100, 100, p) for _ in range(10000)]\n",
    "    Q = np.random.randint(-100,100, p)\n",
    "    diffs = [np.linalg.norm(P-Q) for P in P_set]\n",
    "    mxd = max(diffs)\n",
    "    mnd = min(diffs)\n",
    "    delta = math.log10(mxd-mnd)/mnd\n",
    "    deltas.append(delta)\n",
    "\n",
    "plt.plot(range(2,50),deltas)\n",
    "plt.xlabel('Number of dimensions p')\n",
    "plt.ylabel('Euclidean Distance')\n",
    "plt.show()"
   ]
  },
  {
   "cell_type": "markdown",
   "id": "93fa16c5",
   "metadata": {},
   "source": [
    "#### Distances to nearest and farthest points as n increases"
   ]
  },
  {
   "cell_type": "code",
   "execution_count": 2,
   "id": "111edbb0",
   "metadata": {},
   "outputs": [
    {
     "data": {
      "text/plain": [
       "<matplotlib.legend.Legend at 0x116341190>"
      ]
     },
     "execution_count": 2,
     "metadata": {},
     "output_type": "execute_result"
    },
    {
     "data": {
      "image/png": "[encoded data removed]",
      "text/plain": [
       "<Figure size 432x288 with 1 Axes>"
      ]
     },
     "metadata": {
      "needs_background": "light"
     },
     "output_type": "display_data"
    }
   ],
   "source": [
    "def generate_data(dimension, num_points, seed):\n",
    "    ''' Generate random data points within [0, 1] for each coordinate in the given dimension '''\n",
    "    np.random.seed(seed) \n",
    "    data = np.random.rand(num_points, dimension)\n",
    "    return data\n",
    "\n",
    "\n",
    "def neighbors(data, query_point):\n",
    "    ''' Returns the nearest and farthest point in data from query_point '''\n",
    "    nearest_distance = float('inf')\n",
    "    farthest_distance = 0\n",
    "    for point in data:\n",
    "        distance = np.linalg.norm(point - query_point)\n",
    "        if distance < nearest_distance:\n",
    "            nearest_distance = distance\n",
    "        if distance > farthest_distance:\n",
    "            farthest_distance = distance\n",
    "    return nearest_distance, farthest_distance\n",
    "\n",
    "\n",
    "#define a point Q\n",
    "seed = 0\n",
    "dimensions = 10000\n",
    "num_points = 199\n",
    "\n",
    "data = generate_data(dimensions, num_points, seed)\n",
    "data.shape\n",
    "Q = data[1]\n",
    "neighbors(data, Q)\n",
    "\n",
    "#vary\n",
    "seed = 192847\n",
    "nearest_dist=[]\n",
    "farthest_dist=[]\n",
    "\n",
    "for dimensions in range(1, 10000, 10):\n",
    "    data = generate_data(dimensions, num_points, seed) \n",
    "    Q_projected= Q[0:dimensions]\n",
    "    (nd,fd) = neighbors(data, Q_projected)\n",
    "    nearest_dist.append(nd)\n",
    "    farthest_dist.append(fd)\n",
    "    \n",
    "import matplotlib.pyplot as plt\n",
    "\n",
    " \n",
    "# convert axis to Logarithmic scale\n",
    "plt.yscale(\"log\")\n",
    "plt.xscale(\"log\")\n",
    "plt.plot(nearest_dist, color='r', label='nearest')\n",
    "plt.plot(farthest_dist, color='g', label='farthest')\n",
    "plt.xlabel(\"Dimension\")\n",
    "plt.ylabel(\"Distance\")\n",
    "#plt.title(\"Sine and Cosine functions\")\n",
    "plt.legend(loc=\"upper right\")\n",
    "\n",
    "#plt.ylim((, top))"
   ]
  },
  {
   "cell_type": "markdown",
   "id": "768e5de8",
   "metadata": {},
   "source": [
    "#### The unit hypercube is so much larger than the unit sphere in high dimensions\n",
    "Choose p uniformly random numbers between -1 and 1 - this corresponds to a point in the p-dimensional hypercube chosen uniformly at random (each number you chose is one coordinate of the random point).\n",
    "\n",
    "How likely is it that the point you chose is inside the unit ball, i.e., how likely is it that the sum of the squares of all the numbers you chose is at most 1?\n",
    "\n",
    "If you think about it this way, the fact that the unit hypercube is so much larger than the unit sphere in high dimensions is quite intuitive."
   ]
  },
  {
   "cell_type": "markdown",
   "id": "a02ea49e",
   "metadata": {},
   "source": [
    "## Regularization \n",
    "Regularization is ubiquitous in machine learning. Most scikit-learn estimators have a parameter to tune the amount of regularization. \n",
    "\n",
    "\n",
    "\n",
    "### Regularization in linear regression\n",
    "\n",
    "Generate data from a 9th order polynomial (the ground truth):"
   ]
  },
  {
   "cell_type": "code",
   "execution_count": 15,
   "id": "0128ea49",
   "metadata": {},
   "outputs": [
    {
     "data": {
      "image/png": "[encoded data removed]",
      "text/plain": [
       "<Figure size 432x288 with 1 Axes>"
      ]
     },
     "metadata": {
      "needs_background": "light"
     },
     "output_type": "display_data"
    }
   ],
   "source": [
    "import numpy as np\n",
    "from matplotlib import pyplot as plt\n",
    "from matplotlib.colors import ListedColormap\n",
    "\n",
    "from sklearn import linear_model\n",
    "\n",
    "# Create color maps for 3-class classification problem, as with iris\n",
    "cmap_light = ListedColormap(['#FFAAAA', '#AAFFAA', '#AAAAFF'])\n",
    "cmap_bold = ListedColormap(['#FF0000', '#00FF00', '#0000FF'])\n",
    "\n",
    "\n",
    "rng = np.random.RandomState(0)\n",
    "x = 2*rng.rand(100) - 1\n",
    "\n",
    "f = lambda t: 1.2 * t**2 + .1 * t**3 - .4 * t **5 - .5 * t ** 9\n",
    "y = f(x) + .4 * rng.normal(size=100)\n",
    "\n",
    "x_test = np.linspace(-1, 1, 100)\n",
    "\n",
    "plt.figure(figsize=(6, 4))\n",
    "plt.scatter(x, y, s=4)\n",
    "plt.plot(x_test, f(x_test), label=\"truth\")\n",
    "plt.axis('tight')\n",
    "plt.title('Ground truth (9th order polynomial)')\n",
    "\n",
    "plt.show()"
   ]
  },
  {
   "cell_type": "markdown",
   "id": "aaa6c727",
   "metadata": {},
   "source": [
    "Fitting 4th and 9th order polynomials"
   ]
  },
  {
   "cell_type": "code",
   "execution_count": 23,
   "id": "0911562b",
   "metadata": {},
   "outputs": [
    {
     "data": {
      "text/plain": [
       "Text(0.5, 1.0, 'Fitting a 4th and a 9th order polynomial')"
      ]
     },
     "execution_count": 23,
     "metadata": {},
     "output_type": "execute_result"
    },
    {
     "data": {
      "image/png": "[encoded data removed]",
      "text/plain": [
       "<Figure size 432x288 with 1 Axes>"
      ]
     },
     "metadata": {
      "needs_background": "light"
     },
     "output_type": "display_data"
    }
   ],
   "source": [
    "plt.figure(figsize=(6, 4))\n",
    "plt.scatter(x, y, s=4)\n",
    "\n",
    "X = np.array([x**i for i in range(5)]).T\n",
    "X_test = np.array([x_test**i for i in range(5)]).T\n",
    "regr4 = linear_model.LinearRegression()\n",
    "regr4.fit(X, y)\n",
    "plt.plot(x_test, regr4.predict(X_test), label='4th order')\n",
    "\n",
    "X = np.array([x**i for i in range(10)]).T\n",
    "X_test = np.array([x_test**i for i in range(10)]).T\n",
    "regr9 = linear_model.LinearRegression()\n",
    "regr9.fit(X, y)\n",
    "plt.plot(x_test, regr9.predict(X_test), label='9th order')\n",
    "\n",
    "plt.legend(loc='best')\n",
    "plt.axis('tight')\n",
    "plt.title('Fitting a 4th and a 9th order polynomial')"
   ]
  },
  {
   "cell_type": "markdown",
   "id": "9f26005f",
   "metadata": {},
   "source": [
    "## Ridge\n",
    "## Lasso\n",
    "## Elastic Net"
   ]
  },
  {
   "cell_type": "markdown",
   "id": "6abfd12e",
   "metadata": {},
   "source": [
    "### Regularization in kNN\n",
    "For instance, with kNN, it is ‘k’, the number of nearest neighbors used to make the decision. k=1 amounts to no regularization: 0 error on the training set, whereas large k will push toward smoother decision boundaries in the feature space."
   ]
  },
  {
   "cell_type": "markdown",
   "id": "22cecd17",
   "metadata": {},
   "source": [
    "## Feature selection\n",
    "\n",
    "### Compare LinearSVC (SVM for classification) with and without univariate feature selection\n",
    "Improve classification accuracy on a noisy dataset.\n",
    "Some noisy (non informative) features are added to the iris dataset. Support vector machine (SVM) is used to classify the dataset both before and after applying univariate feature selection. For each feature, we plot the p-values for the univariate feature selection and the corresponding weights of SVMs. With this, we will compare model accuracy and examine the impact of univariate feature selection on model weights."
   ]
  },
  {
   "cell_type": "code",
   "execution_count": 5,
   "id": "48c2b6e2",
   "metadata": {},
   "outputs": [],
   "source": [
    "import numpy as np\n",
    "\n",
    "from sklearn.datasets import load_iris\n",
    "from sklearn.model_selection import train_test_split\n",
    "\n",
    "# The iris dataset\n",
    "X, y = load_iris(return_X_y=True)\n",
    "\n",
    "# Some noisy data not correlated\n",
    "E = np.random.RandomState(42).uniform(0, 0.1, size=(X.shape[0], 20))\n",
    "\n",
    "# Add the noisy data to the informative features\n",
    "X = np.hstack((X, E))\n",
    "\n",
    "# Split dataset to select feature and evaluate the classifier\n",
    "X_train, X_test, y_train, y_test = train_test_split(X, y, stratify=y, random_state=0)"
   ]
  },
  {
   "cell_type": "markdown",
   "id": "a2aa2714",
   "metadata": {},
   "source": [
    "Univariate feature selection with F-test for feature scoring. We use the default selection function to select the four most significant features."
   ]
  },
  {
   "cell_type": "code",
   "execution_count": 6,
   "id": "52b51341",
   "metadata": {},
   "outputs": [
    {
     "data": {
      "image/png": "[encoded data removed]",
      "text/plain": [
       "<Figure size 432x288 with 1 Axes>"
      ]
     },
     "metadata": {
      "needs_background": "light"
     },
     "output_type": "display_data"
    }
   ],
   "source": [
    "from sklearn.feature_selection import SelectKBest, f_classif\n",
    "\n",
    "selector = SelectKBest(f_classif, k=4)\n",
    "selector.fit(X_train, y_train)\n",
    "scores = -np.log10(selector.pvalues_)\n",
    "scores /= scores.max()\n",
    "\n",
    "import matplotlib.pyplot as plt\n",
    "\n",
    "X_indices = np.arange(X.shape[-1])\n",
    "plt.figure(1)\n",
    "plt.clf()\n",
    "plt.bar(X_indices - 0.05, scores, width=0.2)\n",
    "plt.title(\"Feature univariate score\")\n",
    "plt.xlabel(\"Feature number\")\n",
    "plt.ylabel(r\"Univariate score ($-Log(p_{value})$)\")\n",
    "plt.show()"
   ]
  },
  {
   "cell_type": "markdown",
   "id": "57532135",
   "metadata": {},
   "source": [
    "#### Compare with SVMs\n",
    "Without univariate feature selection"
   ]
  },
  {
   "cell_type": "code",
   "execution_count": 7,
   "id": "ca664dab",
   "metadata": {},
   "outputs": [
    {
     "name": "stdout",
     "output_type": "stream",
     "text": [
      "Classification accuracy without selecting features: 0.789\n"
     ]
    }
   ],
   "source": [
    "from sklearn.pipeline import make_pipeline\n",
    "from sklearn.preprocessing import MinMaxScaler\n",
    "from sklearn.svm import LinearSVC\n",
    "\n",
    "clf = make_pipeline(MinMaxScaler(), LinearSVC())\n",
    "clf.fit(X_train, y_train)\n",
    "print(\n",
    "    \"Classification accuracy without selecting features: {:.3f}\".format(\n",
    "        clf.score(X_test, y_test)\n",
    "    )\n",
    ")\n",
    "\n",
    "svm_weights = np.abs(clf[-1].coef_).sum(axis=0)\n",
    "svm_weights /= svm_weights.sum()\n"
   ]
  },
  {
   "cell_type": "markdown",
   "id": "b144cdb1",
   "metadata": {},
   "source": [
    "After univariate feature selection"
   ]
  },
  {
   "cell_type": "markdown",
   "id": "893b39e4",
   "metadata": {},
   "source": [
    "In the total set of features, only the 4 of the original features are significant. We can see that they have the highest score with univariate feature selection."
   ]
  },
  {
   "cell_type": "code",
   "execution_count": 8,
   "id": "b9db5bc9",
   "metadata": {},
   "outputs": [
    {
     "name": "stdout",
     "output_type": "stream",
     "text": [
      "Classification accuracy after univariate feature selection: 0.868\n"
     ]
    },
    {
     "data": {
      "image/png": "[encoded data removed]",
      "text/plain": [
       "<Figure size 432x288 with 1 Axes>"
      ]
     },
     "metadata": {
      "needs_background": "light"
     },
     "output_type": "display_data"
    }
   ],
   "source": [
    "clf_selected = make_pipeline(SelectKBest(f_classif, k=4), MinMaxScaler(), LinearSVC())\n",
    "clf_selected.fit(X_train, y_train)\n",
    "print(\n",
    "    \"Classification accuracy after univariate feature selection: {:.3f}\".format(\n",
    "        clf_selected.score(X_test, y_test)\n",
    "    )\n",
    ")\n",
    "\n",
    "svm_weights_selected = np.abs(clf_selected[-1].coef_).sum(axis=0)\n",
    "svm_weights_selected /= svm_weights_selected.sum()\n",
    "\n",
    "plt.bar(\n",
    "    X_indices - 0.45, scores, width=0.2, label=r\"Univariate score ($-Log(p_{value})$)\"\n",
    ")\n",
    "\n",
    "plt.bar(X_indices - 0.25, svm_weights, width=0.2, label=\"SVM weight\")\n",
    "\n",
    "plt.bar(\n",
    "    X_indices[selector.get_support()] - 0.05,\n",
    "    svm_weights_selected,\n",
    "    width=0.2,\n",
    "    label=\"SVM weights after selection\",\n",
    ")\n",
    "\n",
    "plt.title(\"Comparing feature selection\")\n",
    "plt.xlabel(\"Feature number\")\n",
    "plt.yticks(())\n",
    "plt.axis(\"tight\")\n",
    "plt.legend(loc=\"upper right\")\n",
    "plt.show()"
   ]
  },
  {
   "cell_type": "markdown",
   "id": "eddbf841",
   "metadata": {},
   "source": [
    "Without univariate feature selection, the SVM assigns a large weight to the first 4 original significant features, but also selects many of the non-informative features. Applying univariate feature selection before the SVM increases the SVM weight attributed to the significant features, and will thus improve classification."
   ]
  },
  {
   "cell_type": "markdown",
   "id": "157a7a50",
   "metadata": {},
   "source": [
    "#### Removing features with low variance\n",
    "\n",
    "VarianceThreshold is a simple baseline approach to feature selection. It removes all features whose variance doesn’t meet some threshold. By default, it removes all zero-variance features, i.e. features that have the same value in all samples.\n",
    "\n",
    "As an example, suppose that we have **a dataset with boolean features**, and we want to remove all features that are either one or zero (on or off) in more than 80% of the samples. Boolean features are Bernoulli random variables, and the variance of such variables is given by\n",
    "$Var[X}=p(1-p)$\n",
    "\n",
    "so we can select using the threshold .8 * (1 - .8):"
   ]
  },
  {
   "cell_type": "code",
   "execution_count": 9,
   "id": "77702cb6",
   "metadata": {},
   "outputs": [
    {
     "data": {
      "text/plain": [
       "array([[0, 1],\n",
       "       [1, 0],\n",
       "       [0, 0],\n",
       "       [1, 1],\n",
       "       [1, 0],\n",
       "       [1, 1]])"
      ]
     },
     "execution_count": 9,
     "metadata": {},
     "output_type": "execute_result"
    }
   ],
   "source": [
    "from sklearn.feature_selection import VarianceThreshold\n",
    "X = [[0, 0, 1], [0, 1, 0], [1, 0, 0], [0, 1, 1], [0, 1, 0], [0, 1, 1]]\n",
    "sel = VarianceThreshold(threshold=(.8 * (1 - .8)))\n",
    "sel.fit_transform(X)"
   ]
  },
  {
   "cell_type": "markdown",
   "id": "9da8a10d",
   "metadata": {},
   "source": [
    "As expected, VarianceThreshold has removed the first column, which has a probability $p05/6>.8$\n",
    " of containing a zero.\n",
    "### Removing features with univariate feature selection\n",
    " \n",
    "Select the best features based on univariate statistical tests.\n",
    "We can use a F-test to retrieve the two best features for a dataset as follows:"
   ]
  },
  {
   "cell_type": "code",
   "execution_count": 10,
   "id": "67b979fa",
   "metadata": {},
   "outputs": [
    {
     "data": {
      "text/plain": [
       "(150, 2)"
      ]
     },
     "execution_count": 10,
     "metadata": {},
     "output_type": "execute_result"
    }
   ],
   "source": [
    "from sklearn.datasets import load_iris\n",
    "from sklearn.feature_selection import SelectKBest\n",
    "from sklearn.feature_selection import f_classif\n",
    "X, y = load_iris(return_X_y=True)\n",
    "X.shape\n",
    "(150, 4)\n",
    "X_new = SelectKBest(f_classif, k=2).fit_transform(X, y)\n",
    "X_new.shape\n",
    "(150, 2)"
   ]
  },
  {
   "cell_type": "markdown",
   "id": "2120a0f3",
   "metadata": {},
   "source": [
    "For regression: r_regression, f_regression, mutual_info_regression\n",
    "\n",
    "For classification: chi2, f_classif, mutual_info_classif\n",
    "\n",
    "The methods based on F-test estimate the degree of linear dependency between two random variables. On the other hand, mutual information methods can capture any kind of statistical dependency, but being nonparametric, they require more samples for accurate estimation. Note that the \n",
    "$\\chi^2$-test should only be applied to non-negative features, such as frequencies."
   ]
  },
  {
   "cell_type": "markdown",
   "id": "b1df28bd",
   "metadata": {},
   "source": [
    "### Recursive feature elimination\n",
    "Given an external estimator that assigns weights to features (e.g., the coefficients of a linear model), the goal of recursive feature elimination (RFE) is to select features by recursively considering smaller and smaller sets of features. First, the estimator is trained on the initial set of features and the importance of each feature is obtained either through any specific attribute (such as coef_, feature_importances_) or callable. Then, the least important features are pruned from current set of features. That procedure is recursively repeated on the pruned set until the desired number of features to select is eventually reached.\n",
    "\n",
    "RFECV performs RFE in a cross-validation loop to find the optimal number of features. In more details, the number of features selected is tuned automatically by fitting an RFE selector on the different cross-validation splits (provided by the cv parameter). The performance of the RFE selector are evaluated using scorer for different number of selected features and aggregated together. Finally, the scores are averaged across folds and the number of features selected is set to the number of features that maximize the cross-validation score.\n",
    "\n",
    "#### Recursive feature elimination with cross-validation\n",
    "We build a classification task using 3 informative features. The introduction of 2 additional redundant (i.e. correlated) features has the effect that the selected features vary depending on the cross-validation fold. The remaining features are non-informative as they are drawn at random.\n",
    "After data generation, we create the RFE object and compute the cross-validated scores. The scoring strategy “accuracy” optimizes the proportion of correctly classified samples."
   ]
  },
  {
   "cell_type": "code",
   "execution_count": 11,
   "id": "f14e95dc",
   "metadata": {},
   "outputs": [
    {
     "name": "stdout",
     "output_type": "stream",
     "text": [
      "Optimal number of features: 3\n"
     ]
    },
    {
     "ename": "KeyError",
     "evalue": "'n_features'",
     "output_type": "error",
     "traceback": [
      "\u001b[0;31m---------------------------------------------------------------------------\u001b[0m",
      "\u001b[0;31mKeyError\u001b[0m                                  Traceback (most recent call last)",
      "\u001b[0;32m/usr/local/lib/python3.9/site-packages/pandas/core/indexes/base.py\u001b[0m in \u001b[0;36mget_loc\u001b[0;34m(self, key, method, tolerance)\u001b[0m\n\u001b[1;32m   3079\u001b[0m             \u001b[0;32mtry\u001b[0m\u001b[0;34m:\u001b[0m\u001b[0;34m\u001b[0m\u001b[0;34m\u001b[0m\u001b[0m\n\u001b[0;32m-> 3080\u001b[0;31m                 \u001b[0;32mreturn\u001b[0m \u001b[0mself\u001b[0m\u001b[0;34m.\u001b[0m\u001b[0m_engine\u001b[0m\u001b[0;34m.\u001b[0m\u001b[0mget_loc\u001b[0m\u001b[0;34m(\u001b[0m\u001b[0mcasted_key\u001b[0m\u001b[0;34m)\u001b[0m\u001b[0;34m\u001b[0m\u001b[0;34m\u001b[0m\u001b[0m\n\u001b[0m\u001b[1;32m   3081\u001b[0m             \u001b[0;32mexcept\u001b[0m \u001b[0mKeyError\u001b[0m \u001b[0;32mas\u001b[0m \u001b[0merr\u001b[0m\u001b[0;34m:\u001b[0m\u001b[0;34m\u001b[0m\u001b[0;34m\u001b[0m\u001b[0m\n",
      "\u001b[0;32mpandas/_libs/index.pyx\u001b[0m in \u001b[0;36mpandas._libs.index.IndexEngine.get_loc\u001b[0;34m()\u001b[0m\n",
      "\u001b[0;32mpandas/_libs/index.pyx\u001b[0m in \u001b[0;36mpandas._libs.index.IndexEngine.get_loc\u001b[0;34m()\u001b[0m\n",
      "\u001b[0;32mpandas/_libs/hashtable_class_helper.pxi\u001b[0m in \u001b[0;36mpandas._libs.hashtable.PyObjectHashTable.get_item\u001b[0;34m()\u001b[0m\n",
      "\u001b[0;32mpandas/_libs/hashtable_class_helper.pxi\u001b[0m in \u001b[0;36mpandas._libs.hashtable.PyObjectHashTable.get_item\u001b[0;34m()\u001b[0m\n",
      "\u001b[0;31mKeyError\u001b[0m: 'n_features'",
      "\nThe above exception was the direct cause of the following exception:\n",
      "\u001b[0;31mKeyError\u001b[0m                                  Traceback (most recent call last)",
      "\u001b[0;32m<ipython-input-11-398792d4e78d>\u001b[0m in \u001b[0;36m<module>\u001b[0;34m\u001b[0m\n\u001b[1;32m     44\u001b[0m \u001b[0mplt\u001b[0m\u001b[0;34m.\u001b[0m\u001b[0mylabel\u001b[0m\u001b[0;34m(\u001b[0m\u001b[0;34m\"Mean test accuracy\"\u001b[0m\u001b[0;34m)\u001b[0m\u001b[0;34m\u001b[0m\u001b[0;34m\u001b[0m\u001b[0m\n\u001b[1;32m     45\u001b[0m plt.errorbar(\n\u001b[0;32m---> 46\u001b[0;31m     \u001b[0mx\u001b[0m\u001b[0;34m=\u001b[0m\u001b[0mcv_results\u001b[0m\u001b[0;34m[\u001b[0m\u001b[0;34m\"n_features\"\u001b[0m\u001b[0;34m]\u001b[0m\u001b[0;34m,\u001b[0m\u001b[0;34m\u001b[0m\u001b[0;34m\u001b[0m\u001b[0m\n\u001b[0m\u001b[1;32m     47\u001b[0m     \u001b[0my\u001b[0m\u001b[0;34m=\u001b[0m\u001b[0mcv_results\u001b[0m\u001b[0;34m[\u001b[0m\u001b[0;34m\"mean_test_score\"\u001b[0m\u001b[0;34m]\u001b[0m\u001b[0;34m,\u001b[0m\u001b[0;34m\u001b[0m\u001b[0;34m\u001b[0m\u001b[0m\n\u001b[1;32m     48\u001b[0m     \u001b[0myerr\u001b[0m\u001b[0;34m=\u001b[0m\u001b[0mcv_results\u001b[0m\u001b[0;34m[\u001b[0m\u001b[0;34m\"std_test_score\"\u001b[0m\u001b[0;34m]\u001b[0m\u001b[0;34m,\u001b[0m\u001b[0;34m\u001b[0m\u001b[0;34m\u001b[0m\u001b[0m\n",
      "\u001b[0;32m/usr/local/lib/python3.9/site-packages/pandas/core/frame.py\u001b[0m in \u001b[0;36m__getitem__\u001b[0;34m(self, key)\u001b[0m\n\u001b[1;32m   3022\u001b[0m             \u001b[0;32mif\u001b[0m \u001b[0mself\u001b[0m\u001b[0;34m.\u001b[0m\u001b[0mcolumns\u001b[0m\u001b[0;34m.\u001b[0m\u001b[0mnlevels\u001b[0m \u001b[0;34m>\u001b[0m \u001b[0;36m1\u001b[0m\u001b[0;34m:\u001b[0m\u001b[0;34m\u001b[0m\u001b[0;34m\u001b[0m\u001b[0m\n\u001b[1;32m   3023\u001b[0m                 \u001b[0;32mreturn\u001b[0m \u001b[0mself\u001b[0m\u001b[0;34m.\u001b[0m\u001b[0m_getitem_multilevel\u001b[0m\u001b[0;34m(\u001b[0m\u001b[0mkey\u001b[0m\u001b[0;34m)\u001b[0m\u001b[0;34m\u001b[0m\u001b[0;34m\u001b[0m\u001b[0m\n\u001b[0;32m-> 3024\u001b[0;31m             \u001b[0mindexer\u001b[0m \u001b[0;34m=\u001b[0m \u001b[0mself\u001b[0m\u001b[0;34m.\u001b[0m\u001b[0mcolumns\u001b[0m\u001b[0;34m.\u001b[0m\u001b[0mget_loc\u001b[0m\u001b[0;34m(\u001b[0m\u001b[0mkey\u001b[0m\u001b[0;34m)\u001b[0m\u001b[0;34m\u001b[0m\u001b[0;34m\u001b[0m\u001b[0m\n\u001b[0m\u001b[1;32m   3025\u001b[0m             \u001b[0;32mif\u001b[0m \u001b[0mis_integer\u001b[0m\u001b[0;34m(\u001b[0m\u001b[0mindexer\u001b[0m\u001b[0;34m)\u001b[0m\u001b[0;34m:\u001b[0m\u001b[0;34m\u001b[0m\u001b[0;34m\u001b[0m\u001b[0m\n\u001b[1;32m   3026\u001b[0m                 \u001b[0mindexer\u001b[0m \u001b[0;34m=\u001b[0m \u001b[0;34m[\u001b[0m\u001b[0mindexer\u001b[0m\u001b[0;34m]\u001b[0m\u001b[0;34m\u001b[0m\u001b[0;34m\u001b[0m\u001b[0m\n",
      "\u001b[0;32m/usr/local/lib/python3.9/site-packages/pandas/core/indexes/base.py\u001b[0m in \u001b[0;36mget_loc\u001b[0;34m(self, key, method, tolerance)\u001b[0m\n\u001b[1;32m   3080\u001b[0m                 \u001b[0;32mreturn\u001b[0m \u001b[0mself\u001b[0m\u001b[0;34m.\u001b[0m\u001b[0m_engine\u001b[0m\u001b[0;34m.\u001b[0m\u001b[0mget_loc\u001b[0m\u001b[0;34m(\u001b[0m\u001b[0mcasted_key\u001b[0m\u001b[0;34m)\u001b[0m\u001b[0;34m\u001b[0m\u001b[0;34m\u001b[0m\u001b[0m\n\u001b[1;32m   3081\u001b[0m             \u001b[0;32mexcept\u001b[0m \u001b[0mKeyError\u001b[0m \u001b[0;32mas\u001b[0m \u001b[0merr\u001b[0m\u001b[0;34m:\u001b[0m\u001b[0;34m\u001b[0m\u001b[0;34m\u001b[0m\u001b[0m\n\u001b[0;32m-> 3082\u001b[0;31m                 \u001b[0;32mraise\u001b[0m \u001b[0mKeyError\u001b[0m\u001b[0;34m(\u001b[0m\u001b[0mkey\u001b[0m\u001b[0;34m)\u001b[0m \u001b[0;32mfrom\u001b[0m \u001b[0merr\u001b[0m\u001b[0;34m\u001b[0m\u001b[0;34m\u001b[0m\u001b[0m\n\u001b[0m\u001b[1;32m   3083\u001b[0m \u001b[0;34m\u001b[0m\u001b[0m\n\u001b[1;32m   3084\u001b[0m         \u001b[0;32mif\u001b[0m \u001b[0mtolerance\u001b[0m \u001b[0;32mis\u001b[0m \u001b[0;32mnot\u001b[0m \u001b[0;32mNone\u001b[0m\u001b[0;34m:\u001b[0m\u001b[0;34m\u001b[0m\u001b[0;34m\u001b[0m\u001b[0m\n",
      "\u001b[0;31mKeyError\u001b[0m: 'n_features'"
     ]
    },
    {
     "data": {
      "image/png": "[encoded data removed]",
      "text/plain": [
       "<Figure size 432x288 with 1 Axes>"
      ]
     },
     "metadata": {
      "needs_background": "light"
     },
     "output_type": "display_data"
    }
   ],
   "source": [
    "# Data generation\n",
    "\n",
    "from sklearn.datasets import make_classification\n",
    "\n",
    "X, y = make_classification(\n",
    "    n_samples=500,\n",
    "    n_features=15,\n",
    "    n_informative=3,\n",
    "    n_redundant=2,\n",
    "    n_repeated=0,\n",
    "    n_classes=8,\n",
    "    n_clusters_per_class=1,\n",
    "    class_sep=0.8,\n",
    "    random_state=0,\n",
    ")\n",
    "\n",
    "# Model training and selection\n",
    "\n",
    "from sklearn.feature_selection import RFECV\n",
    "from sklearn.linear_model import LogisticRegression\n",
    "from sklearn.model_selection import StratifiedKFold\n",
    "\n",
    "min_features_to_select = 1  # Minimum number of features to consider\n",
    "clf = LogisticRegression()\n",
    "cv = StratifiedKFold(5)\n",
    "\n",
    "rfecv = RFECV(\n",
    "    estimator=clf,\n",
    "    step=1,\n",
    "    cv=cv,\n",
    "    scoring=\"accuracy\",\n",
    "    min_features_to_select=min_features_to_select,\n",
    "    n_jobs=2,\n",
    ")\n",
    "rfecv.fit(X, y)\n",
    "\n",
    "print(f\"Optimal number of features: {rfecv.n_features_}\")\n",
    "import matplotlib.pyplot as plt\n",
    "import pandas as pd\n",
    "\n",
    "cv_results = pd.DataFrame(rfecv.cv_results_)\n",
    "plt.figure()\n",
    "plt.xlabel(\"Number of features selected\")\n",
    "plt.ylabel(\"Mean test accuracy\")\n",
    "plt.errorbar(\n",
    "    x=cv_results[\"n_features\"],\n",
    "    y=cv_results[\"mean_test_score\"],\n",
    "    yerr=cv_results[\"std_test_score\"],\n",
    ")\n",
    "plt.title(\"Recursive Feature Elimination \\nwith correlated features\")\n",
    "plt.show()\n"
   ]
  },
  {
   "cell_type": "markdown",
   "id": "eb1cc772",
   "metadata": {},
   "source": [
    "In the present case, the model with 3 features (which corresponds to the true generative model) is found to be the most optimal. From the plot above one can further notice a plateau of equivalent scores (similar mean value and overlapping errorbars) for 3 to 5 selected features. This is the result of introducing correlated features. Indeed, the optimal model selected by the RFE can lie within this range, depending on the cross-validation technique. The test accuracy decreases above 5 selected features, this is, keeping non-informative features leads to over-fitting and is therefore detrimental for the statistical performance of the models."
   ]
  },
  {
   "cell_type": "markdown",
   "id": "ed71705e",
   "metadata": {},
   "source": [
    "### Feature agglomeration vs. univariate selection\n",
    "This example compares 2 dimensionality reduction strategies:\n",
    "\n",
    "* univariate feature selection with Anova\n",
    "\n",
    "* feature agglomeration with Ward hierarchical clustering\n",
    "\n",
    "Both methods are compared in a regression problem using a BayesianRidge as supervised estimator."
   ]
  },
  {
   "cell_type": "code",
   "execution_count": 12,
   "id": "5fc77985",
   "metadata": {},
   "outputs": [],
   "source": [
    "import shutil\n",
    "import tempfile\n",
    "\n",
    "import matplotlib.pyplot as plt\n",
    "import numpy as np\n",
    "from joblib import Memory\n",
    "from scipy import linalg, ndimage\n",
    "\n",
    "from sklearn import feature_selection\n",
    "from sklearn.cluster import FeatureAgglomeration\n",
    "from sklearn.feature_extraction.image import grid_to_graph\n",
    "from sklearn.linear_model import BayesianRidge\n",
    "from sklearn.model_selection import GridSearchCV, KFold\n",
    "from sklearn.pipeline import Pipeline\n",
    "\n",
    "# set parameters\n",
    "n_samples = 200\n",
    "size = 40  # image size\n",
    "roi_size = 15\n",
    "snr = 5.0\n",
    "np.random.seed(0)\n",
    "\n",
    "# generate data\n",
    "coef = np.zeros((size, size))\n",
    "coef[0:roi_size, 0:roi_size] = -1.0\n",
    "coef[-roi_size:, -roi_size:] = 1.0\n",
    "\n",
    "X = np.random.randn(n_samples, size**2)\n",
    "for x in X:  # smooth data\n",
    "    x[:] = ndimage.gaussian_filter(x.reshape(size, size), sigma=1.0).ravel()\n",
    "X -= X.mean(axis=0)\n",
    "X /= X.std(axis=0)\n",
    "\n",
    "y = np.dot(X, coef.ravel())\n",
    "\n",
    "# add noise\n",
    "noise = np.random.randn(y.shape[0])\n",
    "noise_coef = (linalg.norm(y, 2) / np.exp(snr / 20.0)) / linalg.norm(noise, 2)\n",
    "y += noise_coef * noise"
   ]
  },
  {
   "cell_type": "code",
   "execution_count": 13,
   "id": "469c0a54",
   "metadata": {},
   "outputs": [
    {
     "name": "stdout",
     "output_type": "stream",
     "text": [
      "________________________________________________________________________________\n",
      "[Memory] Calling sklearn.cluster._agglomerative.ward_tree...\n",
      "ward_tree(array([[-0.451933, ..., -0.675318],\n",
      "       ...,\n",
      "       [ 0.275706, ..., -1.085711]]), connectivity=<1600x1600 sparse matrix of type '<class 'numpy.int64'>'\n",
      "\twith 7840 stored elements in COOrdinate format>, n_clusters=None, return_distance=False)\n",
      "________________________________________________________ward_tree - 0.3s, 0.0min\n",
      "________________________________________________________________________________\n",
      "[Memory] Calling sklearn.cluster._agglomerative.ward_tree...\n",
      "ward_tree(array([[ 0.905206, ...,  0.161245],\n",
      "       ...,\n",
      "       [-0.849835, ..., -1.091621]]), connectivity=<1600x1600 sparse matrix of type '<class 'numpy.int64'>'\n",
      "\twith 7840 stored elements in COOrdinate format>, n_clusters=None, return_distance=False)\n",
      "________________________________________________________ward_tree - 0.0s, 0.0min\n",
      "________________________________________________________________________________\n",
      "[Memory] Calling sklearn.cluster._agglomerative.ward_tree...\n",
      "ward_tree(array([[ 0.905206, ..., -0.675318],\n",
      "       ...,\n",
      "       [-0.849835, ..., -1.085711]]), connectivity=<1600x1600 sparse matrix of type '<class 'numpy.int64'>'\n",
      "\twith 7840 stored elements in COOrdinate format>, n_clusters=None, return_distance=False)\n",
      "________________________________________________________ward_tree - 0.0s, 0.0min\n",
      "________________________________________________________________________________\n",
      "[Memory] Calling sklearn.feature_selection._univariate_selection.f_regression...\n",
      "f_regression(array([[-0.451933, ...,  0.275706],\n",
      "       ...,\n",
      "       [-0.675318, ..., -1.085711]]), \n",
      "array([ 25.267703, ..., -25.026711]))\n",
      "_____________________________________________________f_regression - 0.0s, 0.0min\n",
      "________________________________________________________________________________\n",
      "[Memory] Calling sklearn.feature_selection._univariate_selection.f_regression...\n",
      "f_regression(array([[ 0.905206, ..., -0.849835],\n",
      "       ...,\n",
      "       [ 0.161245, ..., -1.091621]]), \n",
      "array([ -27.447268, ..., -112.638768]))\n",
      "_____________________________________________________f_regression - 0.0s, 0.0min\n",
      "________________________________________________________________________________\n",
      "[Memory] Calling sklearn.feature_selection._univariate_selection.f_regression...\n",
      "f_regression(array([[ 0.905206, ..., -0.849835],\n",
      "       ...,\n",
      "       [-0.675318, ..., -1.085711]]), \n",
      "array([-27.447268, ..., -25.026711]))\n",
      "_____________________________________________________f_regression - 0.0s, 0.0min\n"
     ]
    }
   ],
   "source": [
    "#Compute the coefs of a Bayesian Ridge with GridSearch\n",
    "cv = KFold(2)  # cross-validation generator for model selection\n",
    "ridge = BayesianRidge()\n",
    "cachedir = tempfile.mkdtemp()\n",
    "mem = Memory(location=cachedir, verbose=1)\n",
    "\n",
    "# Ward agglomeration followed by BayesianRidge\n",
    "\n",
    "connectivity = grid_to_graph(n_x=size, n_y=size)\n",
    "ward = FeatureAgglomeration(n_clusters=10, connectivity=connectivity, memory=mem)\n",
    "clf = Pipeline([(\"ward\", ward), (\"ridge\", ridge)])\n",
    "# Select the optimal number of parcels with grid search\n",
    "clf = GridSearchCV(clf, {\"ward__n_clusters\": [10, 20, 30]}, n_jobs=1, cv=cv)\n",
    "clf.fit(X, y)  # set the best parameters\n",
    "coef_ = clf.best_estimator_.steps[-1][1].coef_\n",
    "coef_ = clf.best_estimator_.steps[0][1].inverse_transform(coef_)\n",
    "coef_agglomeration_ = coef_.reshape(size, size)\n",
    "\n",
    "# Anova univariate feature selection followed by BayesianRidge\n",
    "f_regression = mem.cache(feature_selection.f_regression)  # caching function\n",
    "anova = feature_selection.SelectPercentile(f_regression)\n",
    "clf = Pipeline([(\"anova\", anova), (\"ridge\", ridge)])\n",
    "# Select the optimal percentage of features with grid search\n",
    "clf = GridSearchCV(clf, {\"anova__percentile\": [5, 10, 20]}, cv=cv)\n",
    "clf.fit(X, y)  # set the best parameters\n",
    "coef_ = clf.best_estimator_.steps[-1][1].coef_\n",
    "coef_ = clf.best_estimator_.steps[0][1].inverse_transform(coef_.reshape(1, -1))\n",
    "coef_selection_ = coef_.reshape(size, size)"
   ]
  },
  {
   "cell_type": "code",
   "execution_count": 14,
   "id": "af57b768",
   "metadata": {},
   "outputs": [
    {
     "data": {
      "image/png": "[encoded data removed]",
      "text/plain": [
       "<Figure size 525.6x194.4 with 3 Axes>"
      ]
     },
     "metadata": {
      "needs_background": "light"
     },
     "output_type": "display_data"
    }
   ],
   "source": [
    "# Inverse the transformation to plot the results on an image\n",
    "\n",
    "plt.close(\"all\")\n",
    "plt.figure(figsize=(7.3, 2.7))\n",
    "plt.subplot(1, 3, 1)\n",
    "plt.imshow(coef, interpolation=\"nearest\", cmap=plt.cm.RdBu_r)\n",
    "plt.title(\"True weights\")\n",
    "plt.subplot(1, 3, 2)\n",
    "plt.imshow(coef_selection_, interpolation=\"nearest\", cmap=plt.cm.RdBu_r)\n",
    "plt.title(\"Feature Selection\")\n",
    "plt.subplot(1, 3, 3)\n",
    "plt.imshow(coef_agglomeration_, interpolation=\"nearest\", cmap=plt.cm.RdBu_r)\n",
    "plt.title(\"Feature Agglomeration\")\n",
    "plt.subplots_adjust(0.04, 0.0, 0.98, 0.94, 0.16, 0.26)\n",
    "plt.show()"
   ]
  }
 ],
 "metadata": {
  "kernelspec": {
   "display_name": "Python 3",
   "language": "python",
   "name": "python3"
  },
  "language_info": {
   "codemirror_mode": {
    "name": "ipython",
    "version": 3
   },
   "file_extension": ".py",
   "mimetype": "text/x-python",
   "name": "python",
   "nbconvert_exporter": "python",
   "pygments_lexer": "ipython3",
   "version": "3.9.18"
  }
 },
 "nbformat": 4,
 "nbformat_minor": 5
}
